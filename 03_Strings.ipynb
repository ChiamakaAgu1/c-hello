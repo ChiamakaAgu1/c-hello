{
  "cells": [
    {
      "cell_type": "markdown",
      "metadata": {
        "id": "view-in-github",
        "colab_type": "text"
      },
      "source": [
        "<a href=\"https://colab.research.google.com/github/ChiamakaAgu1/c-hello/blob/main/03_Strings.ipynb\" target=\"_parent\"><img src=\"https://colab.research.google.com/assets/colab-badge.svg\" alt=\"Open In Colab\"/></a>"
      ]
    },
    {
      "cell_type": "markdown",
      "metadata": {
        "id": "qzdf6cxUh1bR"
      },
      "source": [
        "# **String Operations**\n",
        "## **What is a String?**\n",
        "---\n",
        "\n",
        "In Python, a string is a `sequence of characters`, such as letters, numbers, and special characters. Strings are enclosed in quotes, either single quotes (`'...'`) or double quotes (`\"...\"`).\n",
        "\n",
        "### **Example**\n",
        "```python\n",
        "hello = 'hello'\n",
        "greeting = \"Hello, World!\"\n",
        "```\n",
        "Strings can be used to represent text, such as names, messages, and labels. They can also be used to represent other types of data, such as URLs, file paths, and email addresses.\n",
        "\n",
        "---"
      ]
    },
    {
      "cell_type": "markdown",
      "metadata": {
        "id": "48kAL5_0iCzE"
      },
      "source": [
        "### **String Creation and Formatting**\n",
        "In Python, strings can be created using `'single quotes'`, `\"double quotes\"`, or `\"\"\"triple quotes\"\"\"`.<br>\n",
        "Here are some examples to play with:"
      ]
    },
    {
      "cell_type": "code",
      "execution_count": null,
      "metadata": {
        "id": "d_dnOMmph2jn"
      },
      "outputs": [],
      "source": [
        "# Single quotes\n",
        "my_string = 'Hello, World!'\n",
        "print(my_string)\n",
        "\n",
        "# Double quotes\n",
        "my_string = \"Hello, World!\"\n",
        "print(my_string)\n",
        "\n",
        "# Triple quotes (for multi line strings)\n",
        "my_string = '''Hello,\n",
        "World!'''\n",
        "print(my_string)"
      ]
    },
    {
      "cell_type": "markdown",
      "metadata": {
        "id": "xTa4ky_Tjh8N"
      },
      "source": [
        "---\n",
        "## **String Methods**\n",
        "Python provides several string methods that can be used to manipulate strings:\n",
        "`upper()` and `lower()`\n",
        "The upper() method converts a string to uppercase, while the lower() method converts a string to lowercase.<br>\n",
        "\n",
        "```python\n",
        "my_string = \"Hello, World!\"\n",
        "print(my_string.upper())  # Output: HELLO, WORLD!\n",
        "print(my_string.lower())  # Output: hello, world!\n",
        "```\n",
        "\n",
        "#### **strip()**<br>\n",
        "The strip() method removes leading and trailing whitespace from a string.\n",
        "```python\n",
        "my_string = \"   Hello, World!   \"\n",
        "print(my_string.strip())  # Output: Hello, World!\n",
        "```\n",
        "#### **split()**\n",
        "The split() method splits a string into a list of substrings based on a specified separator.\n",
        "```python\n",
        "my_string = \"apple,banana,cherry\"\n",
        "print(my_string.split(\",\"))  # Output: ['apple', 'banana', 'cherry']\n",
        "```\n",
        "---"
      ]
    },
    {
      "cell_type": "code",
      "execution_count": null,
      "metadata": {
        "id": "1jEmhYUGkGUT"
      },
      "outputs": [],
      "source": [
        "# Do some practice\n",
        "\n",
        "\n"
      ]
    },
    {
      "cell_type": "markdown",
      "metadata": {
        "id": "9HYc9lFLRBtp"
      },
      "source": [
        "\n",
        "\n",
        "## **String Slicing and Indexing**<br>\n",
        "Python allows you to access individual characters in a string using `indexing` and `slicing`.\n",
        "```python\n",
        "my_string = \"Hello, World!\"\n",
        "print(my_string[0])  # Output: H\n",
        "print(my_string[-1])  # Output: !\n",
        "```\n",
        "\n",
        "### **Slicing**\n",
        "```python\n",
        "print(my_string[0:5])  # Output: Hello\n",
        "print(my_string[7:])  # Output: World!\n",
        "```\n",
        "### **String Concatenation and Multiplication**\n",
        "Python allows you to concatenate strings using the `+` operator and multiply strings using the `*` operator.\n",
        "```python\n",
        "my_string1 = \"Hello, \"\n",
        "my_string2 = \"World!\"\n",
        "print(my_string1 + my_string2)  # Output: Hello, World!\n",
        "\n",
        "my_string = \"Hello, World!\"\n",
        "print(my_string * 2)  # Output: Hello, World!Hello, World!\n",
        "```\n",
        "\n",
        "### **f-strings and `format()` method**\n",
        "Python provides two ways to format strings: `f-strings` and the `format()` method.\n",
        "### **f-strings**\n",
        "f-strings are a new way of formatting strings in Python, introduced in version 3.6.\n",
        "```python\n",
        "name = \"John\"\n",
        "age = 30\n",
        "print(f\"My name is {name} and I am {age} years old.\")\n",
        "# Output: My name is John and I am 30 years old.\n",
        "```\n",
        "### **format() method**\n",
        "The format() method is an older way of formatting strings in Python.\n",
        "```python\n",
        "name = \"John\"\n",
        "age = 30\n",
        "print(\"My name is {} and I am {} years old.\".format(name, age))\n",
        "# Output: My name is John and I am 30 years old.\n",
        "```\n",
        "Both `f-strings` and the `format()` method can be used to format strings in Python. However, f-strings are generally more concise and readable."
      ]
    },
    {
      "cell_type": "markdown",
      "metadata": {
        "id": "dMRF71VmkBSy"
      },
      "source": [
        "# **Let's get hands-on with String Operations**\n",
        "Try out these exercises on your own. Feel free to google some things where you're stuck."
      ]
    },
    {
      "cell_type": "markdown",
      "metadata": {
        "id": "g88v6uFTlELJ"
      },
      "source": [
        "## **Exercise 1: String Creation and Formatting**\n",
        "**Question**: Create a string variable containing your favorite quote. Then, format a new string to include the quote and the author's name using both f-strings and the `format()` method.\n",
        "\n",
        "Instructions: Create two formatted strings using:\n",
        "- f-strings\n",
        "- format() method\n",
        "Print both formatted strings.\n",
        "> Hint ```You'll need 2 variables for this```\n"
      ]
    },
    {
      "cell_type": "code",
      "execution_count": 5,
      "metadata": {
        "id": "TVqDBA_jqj2Z",
        "outputId": "c7ef1cf2-389b-4de1-8226-c171ebe7a06c",
        "colab": {
          "base_uri": "https://localhost:8080/"
        }
      },
      "outputs": [
        {
          "output_type": "stream",
          "name": "stdout",
          "text": [
            "Be the best version of yourself. That's self-love - Chiamaka AGU\n"
          ]
        }
      ],
      "source": [
        "# Your Code Goes Here\n",
        "quote = \"Be the best version of yourself. That's self-love\"\n",
        "author = 'Chiamaka AGU'\n",
        "print(f'{quote} - {author}')"
      ]
    },
    {
      "cell_type": "code",
      "source": [],
      "metadata": {
        "id": "v8Dj2QWnQAeL"
      },
      "execution_count": null,
      "outputs": []
    },
    {
      "cell_type": "markdown",
      "metadata": {
        "id": "9IRlspDHqnhM"
      },
      "source": [
        "### **Exercise 2: String Methods**\n",
        "**Question**: Perform the following operations on the string `\" Python Programming \"`:\n",
        "\n",
        "- Convert the string to uppercase.\n",
        "- Convert the string to lowercase.\n",
        "- Remove leading and trailing spaces.\n",
        "- Split the string into a list of words.\n",
        "- Join the list of words back into a single string using a hyphen -.\n",
        "> Instructions: Use the string methods `upper()`, `lower()`, `strip()`, `split()`, and `join()` and print the results after each operation."
      ]
    },
    {
      "cell_type": "code",
      "source": [
        "# Your code goes here\n",
        "my_string = \" Python Programming \"\n",
        "lower_case = my_string.lower()\n",
        "print(lower_case)"
      ],
      "metadata": {
        "id": "uROixKQKQDDj"
      },
      "execution_count": null,
      "outputs": []
    },
    {
      "cell_type": "code",
      "source": [
        "# Your Code Goes Here\n",
        "my_string = \" Python Programming \"\n",
        "upper_case = my_string.upper()\n",
        "print(upper_case)"
      ],
      "metadata": {
        "id": "kTIjeiMnQQDX"
      },
      "execution_count": null,
      "outputs": []
    },
    {
      "cell_type": "code",
      "source": [
        "#Remove leading and trailing spaces.\n",
        "my_string = '    Hello World'\n",
        "trimmed_string = my_string.strip()\n",
        "print(trimmed_string)"
      ],
      "metadata": {
        "id": "9o4Qnm-MQY5m",
        "outputId": "6da21e7b-e63d-4179-8f00-f2613827553a",
        "colab": {
          "base_uri": "https://localhost:8080/"
        }
      },
      "execution_count": 11,
      "outputs": [
        {
          "output_type": "stream",
          "name": "stdout",
          "text": [
            "Hello World\n"
          ]
        }
      ]
    },
    {
      "cell_type": "code",
      "source": [
        "#Split the string into a list of words.\n",
        "my_string = 'Hello, Welcome to the world of being better'\n",
        "words_list = my_string.split()\n",
        "print(words_list)"
      ],
      "metadata": {
        "id": "kf6AGOkfRRtN",
        "outputId": "1525853d-1cdd-4d66-9a13-441816424419",
        "colab": {
          "base_uri": "https://localhost:8080/"
        }
      },
      "execution_count": 12,
      "outputs": [
        {
          "output_type": "stream",
          "name": "stdout",
          "text": [
            "['Hello,', 'Welcome', 'to', 'the', 'world', 'of', 'being', 'better']\n"
          ]
        }
      ]
    },
    {
      "cell_type": "code",
      "source": [
        "#join a list of words together\n",
        "my_string = 'Hello,', 'Welcome', 'to', 'the', 'world', 'of', 'being', 'better'\n",
        "j_str = '-'.join(my_string)\n",
        "print(j_str)"
      ],
      "metadata": {
        "id": "ht0InLqNSFA0",
        "outputId": "76b1129c-ca99-433c-d9bb-161ad353a576",
        "colab": {
          "base_uri": "https://localhost:8080/"
        }
      },
      "execution_count": 16,
      "outputs": [
        {
          "output_type": "stream",
          "name": "stdout",
          "text": [
            "Hello,-Welcome-to-the-world-of-being-better\n"
          ]
        }
      ]
    },
    {
      "cell_type": "markdown",
      "metadata": {
        "id": "CZG8ztndsb8r"
      },
      "source": [
        "### **Exercise 3: String Slicing and Indexing**\n",
        "**Question**: Given the string `\"Hello, World!\"`, perform the following tasks:\n",
        "\n",
        "- Print the first five characters.\n",
        "- Print the last six characters.\n",
        "- Print the string in reverse.\n",
        "- Extract and print the word \"World\" using slicing.\n",
        "> Instructions: Use indexing and slicing techniques to extract and manipulate the string. Print the results for each task."
      ]
    },
    {
      "cell_type": "code",
      "source": [
        "#first five characters\n",
        "m_s = 'Chiamaka'\n",
        "M_S = m_s[:5]\n",
        "print(M_S)"
      ],
      "metadata": {
        "id": "q6i0XKCmPzDE",
        "outputId": "af55fd7b-f719-4500-fd08-000bd877af10",
        "colab": {
          "base_uri": "https://localhost:8080/"
        }
      },
      "execution_count": 23,
      "outputs": [
        {
          "output_type": "stream",
          "name": "stdout",
          "text": [
            "Chiam\n"
          ]
        }
      ]
    },
    {
      "cell_type": "code",
      "source": [
        "#last six characters\n",
        "m_s = 'Chiamaka'\n",
        "M_S = m_s[-6:]\n",
        "print(M_S)"
      ],
      "metadata": {
        "id": "jCeT63u9PyKv",
        "outputId": "3dbb3b98-9bc7-4b0e-ba98-4e3963b06028",
        "colab": {
          "base_uri": "https://localhost:8080/"
        }
      },
      "execution_count": 22,
      "outputs": [
        {
          "output_type": "stream",
          "name": "stdout",
          "text": [
            "iamaka\n"
          ]
        }
      ]
    },
    {
      "cell_type": "code",
      "execution_count": 24,
      "metadata": {
        "id": "8JO3PUffs8BL",
        "outputId": "164908f0-9756-4919-9f9f-89a4d95303cd",
        "colab": {
          "base_uri": "https://localhost:8080/"
        }
      },
      "outputs": [
        {
          "output_type": "stream",
          "name": "stdout",
          "text": [
            "lrig a si akamaihC\n"
          ]
        }
      ],
      "source": [
        "#Print the string in reverse.\n",
        "m_s = 'Chiamaka is a girl'\n",
        "M_S = m_s[::-1]\n",
        "print(M_S)"
      ]
    },
    {
      "cell_type": "code",
      "source": [
        "#Extract and print the word \"World\" using slicing.\n",
        "m_s = 'Hello, its a wonderful World'\n",
        "M_S = m_s[23:]\n",
        "print(M_S)"
      ],
      "metadata": {
        "id": "IORj3oLTXpNl",
        "outputId": "0a6882fd-da26-4534-95da-da07712fbf62",
        "colab": {
          "base_uri": "https://localhost:8080/"
        }
      },
      "execution_count": 28,
      "outputs": [
        {
          "output_type": "stream",
          "name": "stdout",
          "text": [
            "World\n"
          ]
        }
      ]
    },
    {
      "cell_type": "markdown",
      "metadata": {
        "id": "FDw0X33oMOeh"
      },
      "source": [
        "### **Exercise 4: String Concatenation and Multiplication**\n",
        "**Question**: Create two strings: \"Hello\" and \"World\". Concatenate them with a space in between. Then, repeat the concatenated string three times.\n",
        "\n",
        "> Instructions: Use concatenation `(+)` and multiplication `(*)` operators. Print the final result."
      ]
    },
    {
      "cell_type": "code",
      "execution_count": 34,
      "metadata": {
        "id": "kiPY5QjvMxbL",
        "outputId": "60569ddd-f4f3-4033-be65-d807d1a26909",
        "colab": {
          "base_uri": "https://localhost:8080/"
        }
      },
      "outputs": [
        {
          "output_type": "stream",
          "name": "stdout",
          "text": [
            "Butter  BettyButter  BettyButter  Betty\n"
          ]
        }
      ],
      "source": [
        "# Your Code Goes Here\n",
        "srt1 = 'Butter'\n",
        "str2 = 'Betty'\n",
        "c_str = srt1 + '  ' + str2\n",
        "r_str = c_str * 3\n",
        "print(r_str)"
      ]
    },
    {
      "cell_type": "markdown",
      "metadata": {
        "id": "D3ImywZCM5q5"
      },
      "source": [
        "### **Exercise 5: f-strings and format() Method**\n",
        "**Question**: Create variables for your name, age, and favorite hobby. Use both f-strings and the `format()` method to print a sentence that includes all three variables.\n",
        "\n",
        "> Instructions: Use both formatting methods to create a sentence like: `\"My name is [name], I am [age] years old, and I enjoy [hobby].\"` Print both formatted sentences."
      ]
    },
    {
      "cell_type": "code",
      "execution_count": null,
      "metadata": {
        "id": "Q2n5l2s0NcwF"
      },
      "outputs": [],
      "source": [
        "# Your Code Goes Here\n",
        "\n"
      ]
    }
  ],
  "metadata": {
    "colab": {
      "provenance": [],
      "include_colab_link": true
    },
    "kernelspec": {
      "display_name": "Python 3",
      "name": "python3"
    },
    "language_info": {
      "name": "python"
    }
  },
  "nbformat": 4,
  "nbformat_minor": 0
}